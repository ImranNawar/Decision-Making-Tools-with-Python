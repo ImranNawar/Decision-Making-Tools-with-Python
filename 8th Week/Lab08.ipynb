{
 "cells": [
  {
   "cell_type": "markdown",
   "metadata": {},
   "source": [
    "# __Error/Exception Handling in Python__\n",
    "# Labwork"
   ]
  },
  {
   "cell_type": "markdown",
   "metadata": {},
   "source": [
    "## Errors in Programming\n",
    "Errors in programming are mistakes or bugs that cause a program to produce incorrect or unexpected results, or to behave in unintended ways.\n",
    "\n",
    "Errors can be:\n",
    "1. Syntax errors\n",
    "2. Runtime errors\n",
    "3. Logical errors"
   ]
  },
  {
   "cell_type": "code",
   "execution_count": 1,
   "metadata": {},
   "outputs": [
    {
     "ename": "SyntaxError",
     "evalue": "unexpected EOF while parsing (2878490741.py, line 2)",
     "output_type": "error",
     "traceback": [
      "\u001b[1;36m  Cell \u001b[1;32mIn[1], line 2\u001b[1;36m\u001b[0m\n\u001b[1;33m    print(\"Hello, World!\"\u001b[0m\n\u001b[1;37m                         ^\u001b[0m\n\u001b[1;31mSyntaxError\u001b[0m\u001b[1;31m:\u001b[0m unexpected EOF while parsing\n"
     ]
    }
   ],
   "source": [
    "# Example of a syntax error\n",
    "print(\"Hello, World!\"\n"
   ]
  },
  {
   "cell_type": "code",
   "execution_count": 2,
   "metadata": {},
   "outputs": [
    {
     "name": "stdout",
     "output_type": "stream",
     "text": [
      "Result of addition: 2\n"
     ]
    }
   ],
   "source": [
    "# Example of a logical error\n",
    "def add_numbers(a, b):\n",
    "    return a - b  # This should be a + b\n",
    "\n",
    "result = add_numbers(5, 3)\n",
    "print(\"Result of addition:\", result)"
   ]
  },
  {
   "cell_type": "code",
   "execution_count": 3,
   "metadata": {},
   "outputs": [
    {
     "ename": "ZeroDivisionError",
     "evalue": "division by zero",
     "output_type": "error",
     "traceback": [
      "\u001b[1;31m---------------------------------------------------------------------------\u001b[0m",
      "\u001b[1;31mZeroDivisionError\u001b[0m                         Traceback (most recent call last)",
      "Cell \u001b[1;32mIn[3], line 4\u001b[0m\n\u001b[0;32m      2\u001b[0m numerator \u001b[38;5;241m=\u001b[39m \u001b[38;5;241m10\u001b[39m\n\u001b[0;32m      3\u001b[0m denominator \u001b[38;5;241m=\u001b[39m \u001b[38;5;241m0\u001b[39m\n\u001b[1;32m----> 4\u001b[0m result \u001b[38;5;241m=\u001b[39m \u001b[43mnumerator\u001b[49m\u001b[43m \u001b[49m\u001b[38;5;241;43m/\u001b[39;49m\u001b[43m \u001b[49m\u001b[43mdenominator\u001b[49m\n",
      "\u001b[1;31mZeroDivisionError\u001b[0m: division by zero"
     ]
    }
   ],
   "source": [
    "# Example of a runtime error\n",
    "numerator = 10\n",
    "denominator = 0\n",
    "result = numerator / denominator"
   ]
  },
  {
   "cell_type": "markdown",
   "metadata": {},
   "source": [
    "## Python Error Hierarchy\n",
    "The base class for all built-in exceptions in Python is BaseException. All other exceptions are derived from this class.\n",
    "\n",
    "Following are the 4 main direct subclasses:\n",
    "1. SystemExit\n",
    "2. KeyboardInterrupt\n",
    "3. GeneratorExit\n",
    "4. Exception"
   ]
  },
  {
   "cell_type": "code",
   "execution_count": 4,
   "metadata": {},
   "outputs": [
    {
     "name": "stdout",
     "output_type": "stream",
     "text": [
      "SystemExit is raised by the sys.exit() function.\n"
     ]
    }
   ],
   "source": [
    "# SystemExit is raised by the sys.exit() function.\n",
    "try:\n",
    "    import sys\n",
    "    sys.exit()\n",
    "except SystemExit:\n",
    "    print(\"SystemExit is raised by the sys.exit() function.\")"
   ]
  },
  {
   "cell_type": "markdown",
   "metadata": {},
   "source": [
    "__Note:__ Don't run this code inside jupyter notebook, it will hang the kernel.\n",
    "Instead, run it as a separate python script. [Click me](keyboard_interrupt_demo.py)\n"
   ]
  },
  {
   "cell_type": "code",
   "execution_count": 5,
   "metadata": {},
   "outputs": [
    {
     "name": "stdout",
     "output_type": "stream",
     "text": [
      "KeyboardInterrupt is raised when the user hits the interrupt key (Ctrl+C or Delete).\n"
     ]
    }
   ],
   "source": [
    "# KeyboardInterrupt is raised when the user hits the\n",
    "# interrupt key (Ctrl+C or Delete).\n",
    "try:\n",
    "     while True:\n",
    "         pass\n",
    "except KeyboardInterrupt:\n",
    "    print(\"KeyboardInterrupt is raised when the user hits the interrupt key (Ctrl+C or Delete).\")"
   ]
  },
  {
   "cell_type": "code",
   "execution_count": 6,
   "metadata": {},
   "outputs": [
    {
     "name": "stdout",
     "output_type": "stream",
     "text": [
      "GeneratorExit is raised when a generator's close() method is called.\n"
     ]
    }
   ],
   "source": [
    "# GeneratorExit is raised when a generator's close() method is called.\n",
    "def generator():\n",
    "    try:\n",
    "        yield\n",
    "    except GeneratorExit:\n",
    "        print(\"GeneratorExit is raised when a generator's close() method is called.\")\n",
    "\n",
    "gen = generator()\n",
    "next(gen)\n",
    "gen.close()"
   ]
  },
  {
   "cell_type": "markdown",
   "metadata": {},
   "source": [
    "## Exception Handling\n",
    "We write the code that can raise an exception inside the try block. If an exception is raised, the code inside the except block is executed.\n",
    "\n",
    "We typically handle the exceptions that are subclasses of the Exception class.\n",
    "- ArithmeticError\n",
    "- LookupError\n",
    "- ValueError\n",
    "- TypeError\n",
    "- FileNotFoundError\n",
    "- ImportError\n",
    "- and many more..."
   ]
  },
  {
   "cell_type": "code",
   "execution_count": 7,
   "metadata": {},
   "outputs": [
    {
     "name": "stdout",
     "output_type": "stream",
     "text": [
      "Error: Division by zero is not allowed.\n"
     ]
    }
   ],
   "source": [
    "# ZeroDivisionError is raised when the second argument\n",
    "# of a division or modulo operation is zero.\n",
    "# handling a ZeroDivisionError using try-except\n",
    "try:\n",
    "    numerator = 10\n",
    "    denominator = 0\n",
    "    result = numerator / denominator\n",
    "except ZeroDivisionError:\n",
    "    print(\"Error: Division by zero is not allowed.\")"
   ]
  },
  {
   "cell_type": "code",
   "execution_count": 7,
   "metadata": {},
   "outputs": [
    {
     "name": "stdout",
     "output_type": "stream",
     "text": [
      "Error: Invalid input for int() function\n"
     ]
    }
   ],
   "source": [
    "# ValueError is raised when a function receives an\n",
    "# argument of the right type but inappropriate value.\n",
    "# Handling a ValueError using try-except\n",
    "try:\n",
    "    number = int(\"abc\")\n",
    "except ValueError:\n",
    "    print(\"Error: Invalid input for int() function\")"
   ]
  },
  {
   "cell_type": "code",
   "execution_count": 8,
   "metadata": {},
   "outputs": [
    {
     "name": "stdout",
     "output_type": "stream",
     "text": [
      "Error: Invalid input for int() function\n"
     ]
    }
   ],
   "source": [
    "# Handling multiple exceptions using try-except\n",
    "try:\n",
    "    number = int(\"abc\")\n",
    "    result = 10 / 0\n",
    "except ValueError:\n",
    "    print(\"Error: Invalid input for int() function\")\n",
    "except ZeroDivisionError:\n",
    "    print(\"Error: Division by zero is not allowed.\")"
   ]
  },
  {
   "cell_type": "code",
   "execution_count": 9,
   "metadata": {},
   "outputs": [
    {
     "name": "stdout",
     "output_type": "stream",
     "text": [
      "Error: division by zero\n"
     ]
    }
   ],
   "source": [
    "# Example of handling multiple exceptions using a single except block\n",
    "try:\n",
    "    number = int(0)\n",
    "    result = 10 / 0\n",
    "except (ValueError, ZeroDivisionError) as e:\n",
    "    print(f\"Error: {e}\")"
   ]
  },
  {
   "cell_type": "code",
   "execution_count": 9,
   "metadata": {},
   "outputs": [
    {
     "name": "stdout",
     "output_type": "stream",
     "text": [
      "Error: Division by zero is not allowed.\n",
      "This block is always executed.\n"
     ]
    }
   ],
   "source": [
    "# Example of using try-except-else-finally\n",
    "try:\n",
    "    numerator = 10\n",
    "    denominator = 0\n",
    "    result = numerator / denominator\n",
    "except ZeroDivisionError:\n",
    "    print(\"Error: Division by zero is not allowed.\")\n",
    "else:\n",
    "    print(\"The division was successful. Result:\", result)\n",
    "finally:\n",
    "    print(\"This block is always executed.\")"
   ]
  },
  {
   "cell_type": "code",
   "execution_count": 10,
   "metadata": {},
   "outputs": [
    {
     "name": "stdout",
     "output_type": "stream",
     "text": [
      "Both operations were successful. Result: 5.0\n",
      "This block is always executed.\n"
     ]
    }
   ],
   "source": [
    "# Example of handling multiple exceptions with try-except-else-finally\n",
    "try:\n",
    "    number = int(\"10\")\n",
    "    result = 10 / 2\n",
    "except ValueError:\n",
    "    print(\"Error: Invalid literal for int() with base 10.\")\n",
    "except ZeroDivisionError:\n",
    "    print(\"Error: Division by zero is not allowed.\")\n",
    "else:\n",
    "    print(\"Both operations were successful. Result:\", result)\n",
    "finally:\n",
    "    print(\"This block is always executed.\")\n"
   ]
  },
  {
   "cell_type": "markdown",
   "metadata": {},
   "source": [
    "# Custom Exceptions\n",
    "Custom exceptions are user-defined exceptions, derived from the Exception class. They are used to raise and catch custom exceptions."
   ]
  },
  {
   "cell_type": "code",
   "execution_count": 10,
   "metadata": {},
   "outputs": [
    {
     "name": "stdout",
     "output_type": "stream",
     "text": [
      "Caught an exception: This is a manually raised ValueError.\n"
     ]
    }
   ],
   "source": [
    "# Raising a built-in exception manually using the raise statement\n",
    "try:\n",
    "    raise ValueError(\"This is a manually raised ValueError.\")\n",
    "except ValueError as e:\n",
    "    print(f\"Caught an exception: {e}\")\n"
   ]
  },
  {
   "cell_type": "code",
   "execution_count": 13,
   "metadata": {},
   "outputs": [
    {
     "name": "stdout",
     "output_type": "stream",
     "text": [
      "Caught a custom exception: This is a custom error message.\n"
     ]
    }
   ],
   "source": [
    "# Creating a custom exception class\n",
    "class MyCustomError(Exception):\n",
    "    \"\"\"Custom exception class for demonstration purposes.\"\"\"\n",
    "    def __init__(self, message):\n",
    "        self.message = message\n",
    "        super().__init__(self.message)\n",
    "\n",
    "# Raising a custom exception\n",
    "try:\n",
    "    raise MyCustomError(\"This is a custom error message.\")\n",
    "except MyCustomError as e:\n",
    "    print(f\"Caught a custom exception: {e}\")"
   ]
  },
  {
   "cell_type": "code",
   "execution_count": 14,
   "metadata": {},
   "outputs": [
    {
     "name": "stdout",
     "output_type": "stream",
     "text": [
      "Error: Division by zero is not allowed.\n"
     ]
    }
   ],
   "source": [
    "# Example of using custom exception in a function\n",
    "def divide_numbers(a, b):\n",
    "    if b == 0:\n",
    "        raise MyCustomError(\"Division by zero is not allowed.\")\n",
    "    return a / b\n",
    "\n",
    "try:\n",
    "    result = divide_numbers(10, 0)\n",
    "except MyCustomError as e:\n",
    "    print(f\"Error: {e}\")"
   ]
  },
  {
   "cell_type": "markdown",
   "metadata": {},
   "source": [
    "## Error Logging and its Components\n",
    "Logging is a way to track events that happen when some software runs. It is a way to record events that happen when some software runs. It is a way to record data to a file.\n",
    "\n",
    "Following are the components of logging:\n",
    "1. Logger\n",
    "2. Handler\n",
    "3. Log Level\n",
    "4. Log Formatter\n",
    "5. Log Record"
   ]
  },
  {
   "cell_type": "code",
   "execution_count": 14,
   "metadata": {},
   "outputs": [
    {
     "data": {
      "text/plain": [
       "<Logger example_logger (WARNING)>"
      ]
     },
     "execution_count": 14,
     "metadata": {},
     "output_type": "execute_result"
    }
   ],
   "source": [
    "import logging\n",
    "\n",
    "\n",
    "# 1. Logger: This is the main entry point for logging.\n",
    "# You can create multiple loggers with different names.\n",
    "logger = logging.getLogger('example_logger')\n",
    "logger"
   ]
  },
  {
   "cell_type": "code",
   "execution_count": 15,
   "metadata": {},
   "outputs": [
    {
     "data": {
      "text/plain": [
       "<FileHandler e:\\IMSc\\Decision Tools\\lectures\\week08\\example.log (NOTSET)>"
      ]
     },
     "execution_count": 15,
     "metadata": {},
     "output_type": "execute_result"
    }
   ],
   "source": [
    "# 2. Handler: This sends the log records to the appropriate\n",
    "# destination, such as a file or the console.\n",
    "handler = logging.FileHandler('example.log')\n",
    "handler"
   ]
  },
  {
   "cell_type": "code",
   "execution_count": 16,
   "metadata": {},
   "outputs": [
    {
     "data": {
      "text/plain": [
       "<Logger example_logger (DEBUG)>"
      ]
     },
     "execution_count": 16,
     "metadata": {},
     "output_type": "execute_result"
    }
   ],
   "source": [
    "# 3. Log Level: Set the log level for the logger\n",
    "logger.setLevel(logging.DEBUG)\n",
    "logger"
   ]
  },
  {
   "cell_type": "code",
   "execution_count": 17,
   "metadata": {},
   "outputs": [
    {
     "data": {
      "text/plain": [
       "<logging.Formatter at 0x1fec6eac040>"
      ]
     },
     "execution_count": 17,
     "metadata": {},
     "output_type": "execute_result"
    }
   ],
   "source": [
    "# 4. Formatter: This specifies the layout of the log messages.\n",
    "formatter = logging.Formatter('%(asctime)s - %(name)s - %(levelname)s - %(message)s')\n",
    "formatter"
   ]
  },
  {
   "cell_type": "code",
   "execution_count": 18,
   "metadata": {},
   "outputs": [
    {
     "data": {
      "text/plain": [
       "<Logger example_logger (DEBUG)>"
      ]
     },
     "execution_count": 18,
     "metadata": {},
     "output_type": "execute_result"
    }
   ],
   "source": [
    "# Add the handler and formatter to the logger\n",
    "handler.setFormatter(formatter)\n",
    "logger.addHandler(handler)\n",
    "logger"
   ]
  },
  {
   "cell_type": "code",
   "execution_count": 19,
   "metadata": {},
   "outputs": [],
   "source": [
    "# Example of using logger\n",
    "try:\n",
    "    result = 10 / 0\n",
    "except ZeroDivisionError as e:\n",
    "    logger.error(\"Error occurred: %s\", e)"
   ]
  },
  {
   "cell_type": "code",
   "execution_count": 20,
   "metadata": {},
   "outputs": [
    {
     "name": "stderr",
     "output_type": "stream",
     "text": [
      "2024-12-13 10:11:21,112 - ERROR - Error occurred: division by zero\n"
     ]
    }
   ],
   "source": [
    "import logging\n",
    "\n",
    "\n",
    "# Configure the logging using single call to basicConfig\n",
    "logging.basicConfig(\n",
    "    level=logging.DEBUG,\n",
    "    format=\"%(asctime)s - %(levelname)s - %(message)s\",\n",
    "    handlers=[ # can assign multiple handlers\n",
    "        logging.FileHandler(\"example.log\"), # log to a file\n",
    "        logging.StreamHandler() # log to console\n",
    "    ]\n",
    ")\n",
    "\n",
    "# Example of logging an error\n",
    "try:\n",
    "    result = 10 / 0\n",
    "except ZeroDivisionError as e:\n",
    "    logging.error(\"Error occurred: %s\", e)\n"
   ]
  },
  {
   "cell_type": "code",
   "execution_count": null,
   "metadata": {},
   "outputs": [],
   "source": []
  },
  {
   "cell_type": "code",
   "execution_count": null,
   "metadata": {},
   "outputs": [],
   "source": []
  }
 ],
 "metadata": {
  "kernelspec": {
   "display_name": "workenv",
   "language": "python",
   "name": "python3"
  },
  "language_info": {
   "codemirror_mode": {
    "name": "ipython",
    "version": 3
   },
   "file_extension": ".py",
   "mimetype": "text/x-python",
   "name": "python",
   "nbconvert_exporter": "python",
   "pygments_lexer": "ipython3",
   "version": "3.9.18"
  }
 },
 "nbformat": 4,
 "nbformat_minor": 2
}
