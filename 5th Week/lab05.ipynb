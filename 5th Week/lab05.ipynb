{
 "cells": [
  {
   "cell_type": "markdown",
   "metadata": {},
   "source": [
    "# Lab Exercise: Object-Oriented Programming in Python \n",
    "\n",
    "## Objective:\n",
    "By the end of this lab, learners will be able to:\n",
    "\n",
    "- Create classes and objects in Python.\n",
    "- Define instance and class attributes.\n",
    "- Understand and implement different types of methods (Instance, Class, and Static methods).\n",
    "- Document Python code using Markdown in Visual Studio Code.\n",
    "---"
   ]
  },
  {
   "cell_type": "markdown",
   "metadata": {},
   "source": [
    "# Task 1: Creating Classes and Objects\n",
    "\n",
    "In this task, we will define a class named `Student` to represent a student entity. The class will have attributes like `name`, `age`, and `grade`. We will also create an object of this class to represent a specific student.\n",
    "--\n",
    "---"
   ]
  },
  {
   "cell_type": "code",
   "execution_count": 1,
   "metadata": {},
   "outputs": [
    {
     "name": "stdout",
     "output_type": "stream",
     "text": [
      "Student Name: Asad Khan\n",
      "Student Age: 16\n",
      "Student Grade: 10th Grade\n"
     ]
    }
   ],
   "source": [
    "# Task 1: Creating Classes and Objects\n",
    "class Student:\n",
    "    def __init__(self, name, age, grade):\n",
    "        self.name = name\n",
    "        self.age = age\n",
    "        self.grade = grade\n",
    "    def editvalues(self):\n",
    "        self.name=input(\"Enter New Name\")\n",
    "# Create an instance of the Student class\n",
    "student1 = Student(\"Asad\", 16, \"10th Grade\")\n",
    "student2 = Student(\"Ali\", 17, \"11th Grade\")\n",
    "student1.editvalues()\n",
    "student2.editvalues()\n",
    "# Access attributes\n",
    "\n"
   ]
  },
  {
   "cell_type": "code",
   "execution_count": 4,
   "metadata": {},
   "outputs": [
    {
     "name": "stdout",
     "output_type": "stream",
     "text": [
      "Asad Khan\n"
     ]
    }
   ],
   "source": [
    "std3=student1\n",
    "\n",
    "print(std3.name)"
   ]
  },
  {
   "cell_type": "markdown",
   "metadata": {},
   "source": [
    "# Task 2: Attributes and Methods\n",
    "\n",
    "We will define a class called `Car` with instance attributes for `make`, `model`, and `year`. Additionally, we will define a method `start_engine` to simulate the action of starting the car's engine.\n",
    "--\n",
    "---"
   ]
  },
  {
   "cell_type": "code",
   "execution_count": null,
   "metadata": {},
   "outputs": [],
   "source": []
  },
  {
   "cell_type": "code",
   "execution_count": 5,
   "metadata": {},
   "outputs": [
    {
     "name": "stdout",
     "output_type": "stream",
     "text": [
      "The engine of the 2021 Toyota Corolla has started.\n"
     ]
    }
   ],
   "source": [
    "# Task 2: Attributes and Methods\n",
    "class Car:\n",
    "    def __init__(self, make, model, year):\n",
    "        self.make = make\n",
    "        self.model = model\n",
    "        self.year = year\n",
    "\n",
    "    def start_engine(self):\n",
    "        print(f\"The engine of the {self.year} {self.make} {self.model} has started.\")\n",
    "\n",
    "# Create an object and call the method\n",
    "my_car = Car(\"Toyota\", \"Corolla\", 2021)\n",
    "my_car.start_engine()\n"
   ]
  },
  {
   "cell_type": "markdown",
   "metadata": {},
   "source": [
    "# Task 3: Class and Instance Attributes\n",
    "\n",
    "In this task, we will explore the difference between class attributes and instance attributes. The class `Car` will have a class attribute `wheels` that is common to all instances, and instance attributes specific to each object.\n",
    "--\n",
    "---"
   ]
  },
  {
   "cell_type": "code",
   "execution_count": 7,
   "metadata": {},
   "outputs": [
    {
     "name": "stdout",
     "output_type": "stream",
     "text": [
      "Car 1: Honda Civic with 4 wheels\n",
      "Car 2: Ford Focus with 4 wheels\n"
     ]
    }
   ],
   "source": [
    "# Task 3: Class and Instance Attributes\n",
    "class Car:\n",
    "    # Class attribute\n",
    "    wheels = 4\n",
    "\n",
    "    def __init__(self, make, model):\n",
    "        # Instance attributes\n",
    "        self.make = make\n",
    "        self.model = model\n",
    "\n",
    "# Accessing class and instance attributes\n",
    "car1 = Car(\"Honda\", \"Civic\")\n",
    "car2 = Car(\"Ford\", \"Focus\")\n",
    "c1=Car\n",
    "print(f\"Car 1: {car1.make} {car1.model} with {Car.wheels} wheels\")\n",
    "print(f\"Car 2: {car2.make} {car2.model} with {c1.wheels} wheels\")\n"
   ]
  },
  {
   "cell_type": "code",
   "execution_count": 10,
   "metadata": {},
   "outputs": [
    {
     "name": "stdout",
     "output_type": "stream",
     "text": [
      "<__main__.Car object at 0x0000024285C8FE50>\n"
     ]
    }
   ],
   "source": []
  },
  {
   "cell_type": "markdown",
   "metadata": {},
   "source": [
    "# Task 4: Instance Methods\n",
    "\n",
    "Instance methods operate on the data stored in instance attributes. We will define an instance method `display_info` in the `Person` class, which prints the person's information.\n",
    "--\n",
    "---"
   ]
  },
  {
   "cell_type": "code",
   "execution_count": 11,
   "metadata": {},
   "outputs": [
    {
     "name": "stdout",
     "output_type": "stream",
     "text": [
      "Name: Alice, Age: 30\n"
     ]
    }
   ],
   "source": [
    "# Task 4: Instance Methods\n",
    "class Person:\n",
    "    def __init__(self, name, age):\n",
    "        self.name = name\n",
    "        self.age = age\n",
    "\n",
    "    def display_info(self):\n",
    "        print(f\"Name: {self.name}, Age: {self.age}\")\n",
    "\n",
    "# Create an object and call the instance method\n",
    "person1 = Person(\"Alice\", 30)\n",
    "person1.display_info()\n"
   ]
  },
  {
   "cell_type": "markdown",
   "metadata": {},
   "source": [
    "# Task 5: Class Methods\n",
    "\n",
    "Class methods are methods that belong to the class itself rather than any specific object. We will define a class method `display_welcome` in the `School` class, which prints a general message for all students.\n",
    "--\n",
    "---"
   ]
  },
  {
   "cell_type": "code",
   "execution_count": 12,
   "metadata": {},
   "outputs": [
    {
     "name": "stdout",
     "output_type": "stream",
     "text": [
      "Welcome to Green Valley High\n"
     ]
    }
   ],
   "source": [
    "# Task 5: Class Methods\n",
    "class School:\n",
    "    school_name = \"Green Valley High\"\n",
    "\n",
    "    @classmethod\n",
    "    def display_welcome(cls):\n",
    "        print(f\"Welcome to {cls.school_name}\")\n",
    "\n",
    "# Call the class method\n",
    "School.display_welcome()\n"
   ]
  },
  {
   "cell_type": "markdown",
   "metadata": {},
   "source": [
    "# Task 6: Static Methods\n",
    "\n",
    "Static methods don't modify class or instance attributes. They are utility methods that can be called on the class itself. We will define a static method `is_adult` in the `Person` class to determine if a person is an adult based on their age.\n",
    "--\n",
    "---"
   ]
  },
  {
   "cell_type": "code",
   "execution_count": 13,
   "metadata": {},
   "outputs": [
    {
     "name": "stdout",
     "output_type": "stream",
     "text": [
      "Is 20 an adult? True\n",
      "Is 15 an adult? False\n"
     ]
    }
   ],
   "source": [
    "# Task 6: Static Methods\n",
    "class Person:\n",
    "    def __init__(self, name, age):\n",
    "        self.name = name\n",
    "        self.age = age\n",
    "\n",
    "    @staticmethod\n",
    "    def is_adult(age):\n",
    "        return age >= 18\n",
    "\n",
    "# Use the static method\n",
    "print(f\"Is 20 an adult? {Person.is_adult(20)}\")\n",
    "print(f\"Is 15 an adult? {Person.is_adult(15)}\")\n"
   ]
  },
  {
   "cell_type": "markdown",
   "metadata": {},
   "source": [
    "# Task 7: Combining Concepts\n",
    "\n",
    "In this final task, we will combine all concepts: instance methods, class methods, static methods, and attributes (both class and instance) in a `BankAccount` class. The class will have instance attributes `owner` and `balance`, a class attribute `bank_name`, and methods for depositing and withdrawing money.\n",
    "--\n",
    "---"
   ]
  },
  {
   "cell_type": "code",
   "execution_count": 14,
   "metadata": {},
   "outputs": [
    {
     "name": "stdout",
     "output_type": "stream",
     "text": [
      "50 deposited. New balance is 150\n",
      "30 withdrawn. New balance is 120\n",
      "Bank: Global Bank\n",
      "Is 50 a valid amount? True\n",
      "Is -20 a valid amount? False\n"
     ]
    }
   ],
   "source": [
    "# Task 7: Combining Concepts\n",
    "class BankAccount:\n",
    "    # Class attribute\n",
    "    bank_name = \"Global Bank\"\n",
    "\n",
    "    def __init__(self, owner, balance=0):\n",
    "        # Instance attributes\n",
    "        self.owner = owner\n",
    "        self.balance = balance\n",
    "\n",
    "    # Instance method to deposit money\n",
    "    def deposit(self, amount):\n",
    "        self.balance += amount\n",
    "        print(f\"{amount} deposited. New balance is {self.balance}\")\n",
    "\n",
    "    # Instance method to withdraw money\n",
    "    def withdraw(self, amount):\n",
    "        if amount > self.balance:\n",
    "            print(f\"Insufficient funds! Current balance is {self.balance}\")\n",
    "        else:\n",
    "            self.balance -= amount\n",
    "            print(f\"{amount} withdrawn. New balance is {self.balance}\")\n",
    "\n",
    "    # Class method to display bank name\n",
    "    @classmethod\n",
    "    def display_bank(cls):\n",
    "        print(f\"Bank: {cls.bank_name}\")\n",
    "\n",
    "    # Static method to validate transaction amount\n",
    "    @staticmethod\n",
    "    def validate_amount(amount):\n",
    "        return amount > 0\n",
    "\n",
    "# Create an account and test the methods\n",
    "account = BankAccount(\"John\", 100)\n",
    "account.deposit(50)\n",
    "account.withdraw(30)\n",
    "BankAccount.display_bank()\n",
    "\n",
    "# Validate a transaction\n",
    "print(f\"Is 50 a valid amount? {BankAccount.validate_amount(50)}\")\n",
    "print(f\"Is -20 a valid amount? {BankAccount.validate_amount(-20)}\")\n"
   ]
  },
  {
   "cell_type": "markdown",
   "metadata": {},
   "source": [
    "# Conclusion:\n",
    "\n",
    "In this lab, you've implemented several key concepts in object-oriented programming (OOP):\n",
    "\n",
    "- Created classes and objects.\n",
    "- Defined and used instance and class attributes.\n",
    "- Implemented instance methods, class methods, and static methods.\n",
    "- Combined all concepts in a more complex class (`BankAccount`).\n"
   ]
  }
 ],
 "metadata": {
  "kernelspec": {
   "display_name": "advprog",
   "language": "python",
   "name": "python3"
  },
  "language_info": {
   "codemirror_mode": {
    "name": "ipython",
    "version": 3
   },
   "file_extension": ".py",
   "mimetype": "text/x-python",
   "name": "python",
   "nbconvert_exporter": "python",
   "pygments_lexer": "ipython3",
   "version": "3.11.9"
  }
 },
 "nbformat": 4,
 "nbformat_minor": 2
}
